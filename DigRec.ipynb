{
 "cells": [
  {
   "cell_type": "code",
   "execution_count": 4,
   "metadata": {},
   "outputs": [],
   "source": [
    "import numpy as np\n",
    "import MNISTLoader\n",
    "#from pkl, retrieve MNIST"
   ]
  },
  {
   "cell_type": "code",
   "execution_count": 22,
   "metadata": {},
   "outputs": [],
   "source": [
    "class Network:\n",
    "    def __init__(self,neurons):\n",
    "        self.layers=len(neurons)\n",
    "        self.neurons=neurons\n",
    "        \n",
    "        self.weights=[]\n",
    "        self.biases=[]\n",
    "        \n",
    "    #if 3 layers then i ranges from 1 to 2 \n",
    "    #initialized weights\n",
    "        for i in range(1,self.layers):\n",
    "            #layer_weight=None\n",
    "            rows=neurons[i]\n",
    "            cols=neurons[i-1]\n",
    "            layer_weight=np.random.randn(rows,cols)\n",
    "            #random.random will give uniform distribution and not random\n",
    "            self.weights.append(layer_weight)\n",
    "            \n",
    "            #layer_biases initializing\n",
    "            layer_bias=np.random.randn(rows,1)\n",
    "            self.biases.append(layer_bias)\n",
    "            "
   ]
  },
  {
   "cell_type": "code",
   "execution_count": 34,
   "metadata": {},
   "outputs": [],
   "source": [
    "train_data,valid_data,test_data=MNISTLoader.load_data_wrapper()\n",
    "#im=train_data[0].reshape(28,28)"
   ]
  },
  {
   "cell_type": "code",
   "execution_count": null,
   "metadata": {},
   "outputs": [],
   "source": [
    "def feedforward(my_net,X,Inputs):\n",
    "    for i in range (1,my_net.layers)\n",
    "    W=my_net.weights[i-1]\n",
    "    B=my_net.biases[i]\n",
    "    return"
   ]
  },
  {
   "cell_type": "code",
   "execution_count": null,
   "metadata": {},
   "outputs": [],
   "source": [
    "#my_net=Network([100,10])"
   ]
  },
  {
   "cell_type": "code",
   "execution_count": 33,
   "metadata": {},
   "outputs": [
    {
     "name": "stdout",
     "output_type": "stream",
     "text": [
      "[[ 0.29801193]\n",
      " [-0.79271939]\n",
      " [ 0.4878994 ]\n",
      " [-1.75452055]\n",
      " [-0.73908575]\n",
      " [-0.55569897]\n",
      " [-0.7053391 ]\n",
      " [ 1.07152865]\n",
      " [ 1.74253022]\n",
      " [ 2.48098851]\n",
      " [ 0.11212473]\n",
      " [ 0.74740769]\n",
      " [ 0.84046464]\n",
      " [ 1.12784121]\n",
      " [ 0.42712331]\n",
      " [-1.29364638]\n",
      " [-0.26647704]\n",
      " [ 0.21287883]\n",
      " [-0.5439123 ]\n",
      " [-0.3145221 ]\n",
      " [-0.61961422]\n",
      " [ 0.91013178]\n",
      " [ 0.14261606]\n",
      " [ 0.37387621]\n",
      " [-0.52958498]]\n",
      "[[ 1.81133516]\n",
      " [-0.61967512]\n",
      " [-0.10328234]\n",
      " [-1.98150056]\n",
      " [ 1.20007502]\n",
      " [ 0.09358356]\n",
      " [ 1.9911301 ]\n",
      " [-0.98673882]\n",
      " [-0.83219544]\n",
      " [-0.03455159]]\n"
     ]
    },
    {
     "data": {
      "text/plain": [
       "list"
      ]
     },
     "execution_count": 33,
     "metadata": {},
     "output_type": "execute_result"
    }
   ],
   "source": [
    "layer_biases=np.random.randn(25,1)\n",
    "print(layer_biases)\n",
    "print(my_net.biases[0]) #if I dont print it formally, it wont be displayed.\n",
    "type(my_net.biases)"
   ]
  }
 ],
 "metadata": {
  "kernelspec": {
   "display_name": "Python 3",
   "language": "python",
   "name": "python3"
  },
  "language_info": {
   "codemirror_mode": {
    "name": "ipython",
    "version": 3
   },
   "file_extension": ".py",
   "mimetype": "text/x-python",
   "name": "python",
   "nbconvert_exporter": "python",
   "pygments_lexer": "ipython3",
   "version": "3.5.2"
  }
 },
 "nbformat": 4,
 "nbformat_minor": 2
}
