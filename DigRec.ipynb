{
 "cells": [
  {
   "cell_type": "code",
   "execution_count": 2,
   "metadata": {},
   "outputs": [],
   "source": [
    "import numpy as np\n",
    "import MNISTLoader\n",
    "#from pkl, retrieve MNIST"
   ]
  },
  {
   "cell_type": "code",
   "execution_count": 4,
   "metadata": {},
   "outputs": [],
   "source": [
    "class Network:\n",
    "    def __init__(self,neurons):\n",
    "        self.layers=len(neurons)\n",
    "        self.neurons=neurons\n",
    "        \n",
    "        self.weights=[]\n",
    "        self.biases=[]\n",
    "        \n",
    "    #if 3 layers then i ranges from 1 to 2 \n",
    "    #initialized weights\n",
    "        for i in range(1,self.layers):\n",
    "            #layer_weight=None\n",
    "            rows=neurons[i]\n",
    "            cols=neurons[i-1]\n",
    "            layer_weight=np.random.randn(rows,cols)\n",
    "            #random.random will give uniform distribution and not random\n",
    "            self.weights.append(layer_weight)\n",
    "            \n",
    "            #layer_biases initializing\n",
    "            layer_bias=np.random.randn(rows,1)\n",
    "            self.biases.append(layer_bias)\n",
    "            "
   ]
  },
  {
   "cell_type": "code",
   "execution_count": 3,
   "metadata": {},
   "outputs": [],
   "source": [
    "train_data,valid_data,test_data=MNISTLoader.load_data_wrapper()\n",
    "#im=train_data[0].reshape(28,28)"
   ]
  },
  {
   "cell_type": "code",
   "execution_count": 17,
   "metadata": {},
   "outputs": [],
   "source": [
    "def feedforward(my_net,X,Inputs):\n",
    "    #Inputs.append(X)   \n",
    "    for i in range (1,my_net.layers):\n",
    "        W = my_net.weights[i-1]\n",
    "        B = my_net.biases[i-1]\n",
    "        if (i==1):\n",
    "            Z = np.dot(W,X) + B\n",
    "            Inputs.append(X)\n",
    "            O = sigmoid(Z)\n",
    "            Inputs.append(O)\n",
    "        else:\n",
    "            Z = np.dot(W,Inputs[-1]) + B\n",
    "            O = sigmoid(Z)\n",
    "            Inputs.append(O)\n",
    "    #return karna hai kya???\n",
    "    #return Inputs"
   ]
  },
  {
   "cell_type": "code",
   "execution_count": 15,
   "metadata": {},
   "outputs": [],
   "source": [
    "def sigmoid(z):\n",
    "    return 1/(1.0+np.exp(-z))"
   ]
  },
  {
   "cell_type": "code",
   "execution_count": null,
   "metadata": {},
   "outputs": [],
   "source": [
    "def Cost(Prediction,Target)\n",
    "    Error=np.average\n",
    "    return"
   ]
  },
  {
   "cell_type": "code",
   "execution_count": 19,
   "metadata": {},
   "outputs": [
    {
     "data": {
      "text/plain": [
       "(10, 50000)"
      ]
     },
     "execution_count": 19,
     "metadata": {},
     "output_type": "execute_result"
    }
   ],
   "source": [
    "my_net=Network([784,28,10])\n",
    "X=train_data[0]\n",
    "Inputs=[]\n",
    "feedforward(my_net,X,Inputs)\n",
    "#print(Inputs[])\n",
    "#Inputs[-1].shape"
   ]
  },
  {
   "cell_type": "code",
   "execution_count": null,
   "metadata": {},
   "outputs": [],
   "source": [
    "layer_biases=np.random.randn(25,1)\n",
    "print(layer_biases)\n",
    "print(my_net.biases[0]) #if I dont print it formally, it wont be displayed.\n",
    "type(my_net.biases)"
   ]
  }
 ],
 "metadata": {
  "kernelspec": {
   "display_name": "Python 3",
   "language": "python",
   "name": "python3"
  },
  "language_info": {
   "codemirror_mode": {
    "name": "ipython",
    "version": 3
   },
   "file_extension": ".py",
   "mimetype": "text/x-python",
   "name": "python",
   "nbconvert_exporter": "python",
   "pygments_lexer": "ipython3",
   "version": "3.5.2"
  }
 },
 "nbformat": 4,
 "nbformat_minor": 2
}
