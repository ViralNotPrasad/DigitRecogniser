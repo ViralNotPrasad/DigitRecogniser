{
 "cells": [
  {
   "cell_type": "code",
   "execution_count": 1,
   "metadata": {},
   "outputs": [],
   "source": [
    "import numpy as np\n",
    "import MNISTLoader\n",
    "#from pkl, retrieve MNIST"
   ]
  },
  {
   "cell_type": "code",
   "execution_count": 2,
   "metadata": {},
   "outputs": [],
   "source": [
    "class Network:\n",
    "    def __init__(self,neurons):\n",
    "        self.layers=len(neurons)\n",
    "        self.neurons=neurons\n",
    "        \n",
    "        self.weights=[]\n",
    "        self.biases=[]\n",
    "        \n",
    "    #if 3 layers then i ranges from 1 to 2 \n",
    "    #initialized weights\n",
    "        for i in range(1,self.layers):\n",
    "            #layer_weight=None\n",
    "            rows=neurons[i]\n",
    "            cols=neurons[i-1]\n",
    "            #layer_weight=np.random.randn(rows,cols)\n",
    "            layer_weight=np.zeros((rows,cols))\n",
    "            #random.random will give uniform distribution and not random\n",
    "            self.weights.append(layer_weight)\n",
    "            \n",
    "            #layer_biases initializing\n",
    "            #layer_bias=np.random.randn(rows,1)\n",
    "            layer_bias=np.zeros((rows,1))\n",
    "            self.biases.append(layer_bias)\n",
    "            "
   ]
  },
  {
   "cell_type": "code",
   "execution_count": 3,
   "metadata": {},
   "outputs": [],
   "source": [
    "train_data,valid_data,test_data=MNISTLoader.load_data_wrapper()\n",
    "#im=train_data[0].reshape(28,28)"
   ]
  },
  {
   "cell_type": "code",
   "execution_count": 4,
   "metadata": {},
   "outputs": [],
   "source": [
    "def feedforward(my_net,X,Inputs,Wt_Avg):\n",
    " \n",
    "    #Inputs.append(X)   \n",
    "    for i in range (1,my_net.layers):\n",
    "        W = my_net.weights[i-1]\n",
    "        B = my_net.biases[i-1]\n",
    "        if (i==1):\n",
    "            Z = np.dot(W,X) + B\n",
    "            Inputs.append(X)\n",
    "        else:\n",
    "            Z = np.dot(W,Inputs[-1]) + B\n",
    "            \n",
    "        Wt_Avg.append(Z)\n",
    "        O = sigmoid(Z)\n",
    "        Inputs.append(O)#Stores Activation\n",
    "    #return karna hai kya???\n",
    "    #return Inputs"
   ]
  },
  {
   "cell_type": "code",
   "execution_count": 5,
   "metadata": {},
   "outputs": [],
   "source": [
    "def backprop(my_net,Wt_Avg,Delta):\n",
    "    \n",
    "            delta=Delta[0]\n",
    "            for i in range(my_net.layers-1,1,-1):\n",
    "                wt_avg=Wt_Avg[i-2]#************************\n",
    "                wd=np.dot(my_net.weights[i-1].transpose(),delta)\n",
    "                sd=sigmoid_ddx(wt_avg)\n",
    "                delta = wd*sd\n",
    "                Delta.append(delta)\n",
    "    #return delta"
   ]
  },
  {
   "cell_type": "code",
   "execution_count": 6,
   "metadata": {},
   "outputs": [],
   "source": [
    "def sigmoid(z):\n",
    "    return 1/(1.0+np.exp(-z))"
   ]
  },
  {
   "cell_type": "code",
   "execution_count": 7,
   "metadata": {},
   "outputs": [],
   "source": [
    "def sigmoid_ddx(z):\n",
    "    return sigmoid(z)*(1-sigmoid(z))"
   ]
  },
  {
   "cell_type": "code",
   "execution_count": 8,
   "metadata": {},
   "outputs": [],
   "source": [
    "def cost_gradient(activation,label):\n",
    "    return activation-label"
   ]
  },
  {
   "cell_type": "code",
   "execution_count": 9,
   "metadata": {},
   "outputs": [],
   "source": [
    "def test(Output,Target):#Error wala not cost\n",
    "    #only output is of the dimension (10,No of training samples)\n",
    "    Prediction=np.argmax(Output,axis=0)#+1\n",
    "    Accuracy=(sum((Prediction==Target).astype(np.float32))/Target.shape[0])*100\n",
    "    return Accuracy"
   ]
  },
  {
   "cell_type": "code",
   "execution_count": 10,
   "metadata": {},
   "outputs": [
    {
     "name": "stdout",
     "output_type": "stream",
     "text": [
      "[array([[ 0.125, -0.125,  0.125, ...,  0.125,  0.125,  0.125],\n",
      "       [ 0.125,  0.125,  0.125, ...,  0.125,  0.125,  0.125],\n",
      "       [ 0.125,  0.125,  0.125, ...,  0.125,  0.125,  0.125],\n",
      "       ..., \n",
      "       [ 0.125,  0.125,  0.125, ...,  0.125,  0.125,  0.125],\n",
      "       [ 0.125,  0.125,  0.125, ..., -0.125,  0.125, -0.125],\n",
      "       [ 0.125,  0.125,  0.125, ...,  0.125,  0.125,  0.125]]), array([[ 0.,  0.,  0., ...,  0.,  0.,  0.],\n",
      "       [ 0.,  0.,  0., ...,  0.,  0.,  0.],\n",
      "       [ 0.,  0.,  0., ...,  0.,  0.,  0.],\n",
      "       ..., \n",
      "       [ 0.,  0.,  0., ...,  0.,  0.,  0.],\n",
      "       [ 0.,  0.,  0., ...,  0.,  0.,  0.],\n",
      "       [ 0.,  0.,  0., ...,  0.,  0.,  0.]]), array([[ 0.,  0.,  0., ...,  0.,  0.,  0.],\n",
      "       [ 0.,  0.,  0., ...,  0.,  0.,  0.],\n",
      "       [ 0.,  0.,  0., ...,  0.,  0.,  0.],\n",
      "       ..., \n",
      "       [ 0.,  0.,  0., ...,  0.,  0.,  0.],\n",
      "       [ 0.,  0.,  0., ...,  0.,  0.,  0.],\n",
      "       [ 0.,  0.,  0., ...,  0.,  0.,  0.]]), array([[ 0.,  0.,  0., ...,  0.,  0.,  0.],\n",
      "       [ 0.,  0.,  0., ...,  0.,  0.,  0.],\n",
      "       [ 0.,  0.,  0., ...,  0.,  0.,  0.],\n",
      "       ..., \n",
      "       [ 0.,  0.,  0., ...,  0.,  0.,  0.],\n",
      "       [ 0.,  0.,  0., ...,  0.,  0.,  0.],\n",
      "       [ 0.,  0.,  0., ...,  0.,  0.,  0.]])]\n"
     ]
    }
   ],
   "source": [
    "my_net=Network([784,280,54,28,10])\n",
    "X=train_data[0]\n",
    "#X=valid_data[0] #Used for testing data\n",
    "#Stores Activation\n",
    "Inputs=[]\n",
    "#Store Weighted Average\n",
    "Wt_Avg=[]\n",
    "feedforward(my_net,X,Inputs,Wt_Avg)\n",
    "#Stores all deltas in reverse order ig\n",
    "Delta=[]\n",
    "\n",
    "final_del = cost_gradient(Inputs[-1],train_data[1])*sigmoid_ddx(Wt_Avg[-1])\n",
    "#print(final_del)\n",
    "#final_del.shape\n",
    "\n",
    "Delta.append(final_del)\n",
    "backprop(my_net,Wt_Avg,Delta)\n",
    "print(Delta)\n",
    "#print(Inputs[])\n",
    "#Inputs[-1].shape\n",
    "Target=valid_data[1]\n",
    "#test(Inputs[-1],Target)"
   ]
  },
  {
   "cell_type": "code",
   "execution_count": null,
   "metadata": {},
   "outputs": [],
   "source": []
  }
 ],
 "metadata": {
  "kernelspec": {
   "display_name": "Python 3",
   "language": "python",
   "name": "python3"
  },
  "language_info": {
   "codemirror_mode": {
    "name": "ipython",
    "version": 3
   },
   "file_extension": ".py",
   "mimetype": "text/x-python",
   "name": "python",
   "nbconvert_exporter": "python",
   "pygments_lexer": "ipython3",
   "version": "3.5.2"
  }
 },
 "nbformat": 4,
 "nbformat_minor": 2
}
